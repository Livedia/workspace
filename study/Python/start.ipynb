{
 "cells": [
  {
   "cell_type": "markdown",
   "id": "5d57d5c7",
   "metadata": {},
   "source": [
    "## 编辑模式 \n",
    "- 绿色，右上方有小铅笔\n",
    "\n",
    "## 命令模式\n",
    "- 蓝色，可以使用快捷键操作整个单元\n",
    "\n",
    "### 模式切换\n",
    "- 编辑模式进入命令模式 esc\n",
    "- 命令模式进入编辑模式 enter\n",
    "\n",
    "键盘操作\n",
    "\n",
    "### 运行代码\n",
    "| 指令 | 功能 |\n",
    "|---|---|\n",
    "|shift + enter |运行当前单元代码，并进入下一个单元|\n",
    "|cmd + enter |运行当前单元代码，并停留在当前单元|\n",
    "\n",
    "### 单元类型切换\n",
    "| 指令 | 功能 |\n",
    "|---|---|\n",
    "|m |单元切换为 markdown 类型|\n",
    "|y |单元切换为 code 类型|\n",
    "  \n",
    "### 命令模式下快捷键\n",
    "| 指令 | 功能 |\n",
    "|---|---|\n",
    "|x |剪切单元|\n",
    "|c |复制单元|\n",
    "|v |在当前单元下粘贴单元|\n",
    "|shift v |在当前单元上粘贴单元|\n",
    "|dd |删除单元|\n",
    "|z |撤销删除单元操作|\n",
    "\n",
    "\n",
    "### 判断语句"
   ]
  },
  {
   "cell_type": "code",
   "execution_count": 7,
   "id": "47473690",
   "metadata": {},
   "outputs": [
    {
     "name": "stdout",
     "output_type": "stream",
     "text": [
      "this is a example\n"
     ]
    }
   ],
   "source": [
    "print(\"this is a example\")\n",
    "# 编辑"
   ]
  },
  {
   "cell_type": "markdown",
   "id": "7a48b416",
   "metadata": {},
   "source": [
    "# 程序组成：\n",
    "- 顺序语句\n",
    "\n",
    "-  判断语句\n",
    "-  循环语句"
   ]
  },
  {
   "cell_type": "markdown",
   "id": "8fdc0b50",
   "metadata": {},
   "source": [
    "## 顺序语句"
   ]
  },
  {
   "cell_type": "code",
   "execution_count": 21,
   "id": "093e78e9",
   "metadata": {},
   "outputs": [
    {
     "name": "stdout",
     "output_type": "stream",
     "text": [
      "123\n",
      "456\n",
      "789\n",
      "我\n",
      "爱\n",
      "Python\n",
      "20 1100 22009\n",
      "20 1100 99\n"
     ]
    }
   ],
   "source": [
    "print(\"123\")\n",
    "print(\"456\")\n",
    "print(\"789\")\n",
    "print(\"我\")\n",
    "print(\"爱\")\n",
    "print(\"Python\")\n",
    "\n",
    "x = 20\n",
    "y = 1100\n",
    "z = 9\n",
    "z = x * y + z\n",
    "x,y,z  \n",
    "print(x,y,z)\n",
    "z = 99\n",
    "print(x,y,z)"
   ]
  },
  {
   "cell_type": "markdown",
   "id": "533173ff",
   "metadata": {},
   "source": [
    "## 判断语句\n",
    "if 表达式1:\n",
    "    代码1"
   ]
  },
  {
   "cell_type": "code",
   "execution_count": 25,
   "id": "2fdb98a8",
   "metadata": {},
   "outputs": [
    {
     "name": "stdout",
     "output_type": "stream",
     "text": [
      "a > 5\n",
      "a= 7\n"
     ]
    }
   ],
   "source": [
    "a = 7 \n",
    "if a>5 :\n",
    "    print(\"a > 5\")\n",
    "    print(\"a=\",a)"
   ]
  },
  {
   "cell_type": "code",
   "execution_count": 1,
   "id": "5fc61d5b",
   "metadata": {},
   "outputs": [
    {
     "name": "stdout",
     "output_type": "stream",
     "text": [
      "请输入一个 0-100 间的数12\n",
      "i<25, i is: 12\n",
      "-------\n",
      "j is 0\n"
     ]
    }
   ],
   "source": [
    "i = int(input(\"请输入一个 0-100 间的数\"))\n",
    "if i>50:\n",
    "    print(f'i>50, i is: {i}')\n",
    "elif i >25:\n",
    "    print(f'25<i<50, i is: {i}')\n",
    "else:\n",
    "    print(f'i<25, i is: {i}')\n",
    "\n",
    "print(\"-------\")\n",
    "\n",
    "j = 1 if i>50 else 0\n",
    "print(\"j is\",j)"
   ]
  },
  {
   "cell_type": "markdown",
   "id": "2e620d0e",
   "metadata": {},
   "source": [
    "### 循环语句"
   ]
  },
  {
   "cell_type": "code",
   "execution_count": 44,
   "id": "3adf66f9",
   "metadata": {},
   "outputs": [
    {
     "name": "stdout",
     "output_type": "stream",
     "text": [
      "now i is: 0\n",
      "now i is: 1\n",
      "now i is: 2\n",
      "now i is: 3\n",
      "now i is: 4\n",
      "now i is: 5\n",
      "now i is: 6\n",
      "now i is: 7\n",
      "now i is: 8\n",
      "now i is: 9\n"
     ]
    }
   ],
   "source": [
    "i= 0\n",
    "while i<10:\n",
    "    print(\"now i is:\",i)\n",
    "    i+=1"
   ]
  },
  {
   "cell_type": "markdown",
   "id": "749702ab",
   "metadata": {},
   "source": [
    "### 函数应用"
   ]
  },
  {
   "cell_type": "code",
   "execution_count": 29,
   "id": "f7c73b95",
   "metadata": {},
   "outputs": [],
   "source": [
    "def SayHi():\n",
    "    print(\"hello python\")\n",
    "\n",
    "def Add(lhd, rhd):\n",
    "    return int(lhd) + int(rhd)\n",
    "\n",
    "def InputNumber():\n",
    "    num1 = input(\"请输入第一个加数：\")\n",
    "    num2 = input(\"请输入第二个加数：\")\n",
    "    return num1,num2\n",
    "\n",
    "def ShowResult(sum):\n",
    "    print(\"加法结果为:\",sum)\n",
    "    \n",
    "    print('结果为:%d' %sum)\n",
    "    \n",
    "    print(f'结果为:{sum}')"
   ]
  },
  {
   "cell_type": "code",
   "execution_count": 30,
   "id": "47b5823e",
   "metadata": {},
   "outputs": [
    {
     "name": "stdout",
     "output_type": "stream",
     "text": [
      "hello python\n",
      "请输入第一个加数：12\n",
      "请输入第二个加数：12\n",
      "加法结果为: 24\n",
      "结果为:24\n",
      "结果为:24\n"
     ]
    }
   ],
   "source": [
    "SayHi()\n",
    "\n",
    "num1,num2 = InputNumber()\n",
    "sum=Add(num1,num2)\n",
    "ShowResult(sum)"
   ]
  },
  {
   "cell_type": "code",
   "execution_count": 22,
   "id": "f6188c8c",
   "metadata": {},
   "outputs": [
    {
     "name": "stdout",
     "output_type": "stream",
     "text": [
      "i is 11\n"
     ]
    }
   ],
   "source": [
    "i = 11\n",
    "print(f'i is {i}')\n"
   ]
  },
  {
   "cell_type": "markdown",
   "id": "0dd395c8",
   "metadata": {},
   "source": [
    "markdown"
   ]
  },
  {
   "cell_type": "code",
   "execution_count": null,
   "id": "92b2994e",
   "metadata": {},
   "outputs": [],
   "source": []
  }
 ],
 "metadata": {
  "kernelspec": {
   "display_name": "Python 3 (ipykernel)",
   "language": "python",
   "name": "python3"
  },
  "language_info": {
   "codemirror_mode": {
    "name": "ipython",
    "version": 3
   },
   "file_extension": ".py",
   "mimetype": "text/x-python",
   "name": "python",
   "nbconvert_exporter": "python",
   "pygments_lexer": "ipython3",
   "version": "3.10.9"
  }
 },
 "nbformat": 4,
 "nbformat_minor": 5
}
